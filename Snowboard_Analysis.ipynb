{
 "metadata": {
  "name": ""
 },
 "nbformat": 3,
 "nbformat_minor": 0,
 "worksheets": [
  {
   "cells": [
    {
     "cell_type": "heading",
     "level": 1,
     "metadata": {},
     "source": [
      "Snowboard Free-Free Beam Calculation"
     ]
    },
    {
     "cell_type": "markdown",
     "metadata": {},
     "source": [
      "These calculations are from: http://www-old.me.gatech.edu/me4053/Manual/manual_VibrationsLaboratory_free.pdf  "
     ]
    },
    {
     "cell_type": "markdown",
     "metadata": {},
     "source": [
      "``The purpose of this analysis is to determine the mode shapes and natural frequencies for the beam.''"
     ]
    },
    {
     "cell_type": "markdown",
     "metadata": {},
     "source": [
      "This analysis is for the 2013 Omni Signal snowboard showed in the image below.  "
     ]
    },
    {
     "cell_type": "code",
     "collapsed": false,
     "input": [
      "from IPython.core.display import Image\n",
      "Image('/home/wlamont/Documents/Snowboard/signal-omni-all-13-prod.jpg')"
     ],
     "language": "python",
     "metadata": {},
     "outputs": [
      {
       "jpeg": "[encoded data removed]",
       "metadata": {},
       "output_type": "pyout",
       "prompt_number": 10,
       "text": [
        "<IPython.core.display.Image at 0x7f9aaec28790>"
       ]
      }
     ],
     "prompt_number": 10
    },
    {
     "cell_type": "code",
     "collapsed": false,
     "input": [
      "#define some parameters\n",
      "L = 159 / 100.0 # in cm\n",
      "b = 10 * 0.0254 # mid section in inches\n",
      "h = 0.0375 * 0.0254 # thickness in inches\n",
      "A = b * h\n",
      "I = b * h ** 3.0 / 12.0"
     ],
     "language": "python",
     "metadata": {},
     "outputs": [],
     "prompt_number": 19
    },
    {
     "cell_type": "markdown",
     "metadata": {},
     "source": [
      "From: http://www.the-house.com/9859sgom13zz-signal-snowboards.html\n",
      "The board has:\n",
      "* poplar core with Standard Profile\n",
      "* Biaxial glass on the bottom of the core and triaxle glass on top\n",
      "* Durasurf sintered base material\n",
      "* Iso-Sub 4160 tops\n",
      "* Carbon torsion bars\n"
     ]
    },
    {
     "cell_type": "code",
     "collapsed": false,
     "input": [
      "# for simplicity will assume all poplar\n",
      "E = 10.90 * 10**9  # GPa\n",
      "rho = 455 # kg/m^3"
     ],
     "language": "python",
     "metadata": {},
     "outputs": [],
     "prompt_number": 20
    },
    {
     "cell_type": "code",
     "collapsed": false,
     "input": [
      "# roots of characteristic equation\n",
      "import numpy as np\n",
      "BnL = [4.73004074, 7.85320462, 10.9956078, 14.1371655, 17.2787597]\n",
      "BnL = np.asarray(BnL)"
     ],
     "language": "python",
     "metadata": {},
     "outputs": [],
     "prompt_number": 21
    },
    {
     "cell_type": "code",
     "collapsed": false,
     "input": [
      "wn = [] # natural frequency\n",
      "i = 1\n",
      "for root in BnL:\n",
      "    w = root ** 2.0 / L ** 2.0 * (E * I / (rho * A)) ** 0.5\n",
      "    print 'The %.0f root has a natural frequency of %.2f Hz' % (i, w)\n",
      "    i = i + 1\n"
     ],
     "language": "python",
     "metadata": {},
     "outputs": [
      {
       "output_type": "stream",
       "stream": "stdout",
       "text": [
        "The 1 root has a natural frequency of 11.91 Hz\n",
        "The 2 root has a natural frequency of 32.83 Hz\n",
        "The 3 root has a natural frequency of 64.36 Hz\n",
        "The 4 root has a natural frequency of 106.39 Hz\n",
        "The 5 root has a natural frequency of 158.93 Hz\n"
       ]
      }
     ],
     "prompt_number": 27
    },
    {
     "cell_type": "code",
     "collapsed": false,
     "input": [],
     "language": "python",
     "metadata": {},
     "outputs": []
    }
   ],
   "metadata": {}
  }
 ]
}